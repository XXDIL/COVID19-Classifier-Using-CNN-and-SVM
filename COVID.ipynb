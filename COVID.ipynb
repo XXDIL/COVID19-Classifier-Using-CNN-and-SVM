{
  "nbformat": 4,
  "nbformat_minor": 0,
  "metadata": {
    "colab": {
      "name": "COVID.ipynb",
      "provenance": [],
      "collapsed_sections": [],
      "toc_visible": true,
      "machine_shape": "hm"
    },
    "kernelspec": {
      "display_name": "Python 3",
      "language": "python",
      "name": "python3"
    },
    "language_info": {
      "codemirror_mode": {
        "name": "ipython",
        "version": 3
      },
      "file_extension": ".py",
      "mimetype": "text/x-python",
      "name": "python",
      "nbconvert_exporter": "python",
      "pygments_lexer": "ipython3",
      "version": "3.8.5"
    },
    "accelerator": "GPU"
  },
  "cells": [
    {
      "cell_type": "markdown",
      "metadata": {
        "id": "CYuxaNwyldMv"
      },
      "source": [
        "# DMW Course Project\n",
        "\n",
        "## Group Members:\n",
        "\n",
        "```\n",
        "IIT2018176 - Milan Bhuva\n",
        "IIT2018178 - Manav Agrawal\n",
        "IIT2018179 - Mohammed Aadil\n",
        "```\n",
        "\n",
        "------\n",
        "\n",
        "### Header files"
      ]
    },
    {
      "cell_type": "code",
      "metadata": {
        "id": "a29pWDWFZ90n"
      },
      "source": [
        "# our utils file\n",
        "import utils\n",
        "from models import VGG, ResNet, EffNetB3\n",
        "\n",
        "# basic ML\n",
        "import os\n",
        "import numpy as np\n",
        "import matplotlib.pyplot as plt\n",
        "import seaborn as sns\n",
        "import pandas as pd\n",
        "\n",
        "# connect to drive\n",
        "from google.colab import drive\n",
        "\n",
        "# Sklearn\n",
        "from sklearn.model_selection import train_test_split\n",
        "from sklearn.decomposition import PCA\n",
        "from sklearn import svm\n",
        "from sklearn.metrics import confusion_matrix"
      ],
      "execution_count": 1,
      "outputs": []
    },
    {
      "cell_type": "markdown",
      "metadata": {
        "id": "Jm42Bj4po3Y-"
      },
      "source": [
        "### Mounting G-Drive"
      ]
    },
    {
      "cell_type": "code",
      "metadata": {
        "id": "XI63nr9QZ922",
        "colab": {
          "base_uri": "https://localhost:8080/"
        },
        "outputId": "69a2f68b-285a-48a3-ee39-da9f8b273d1b"
      },
      "source": [
        "drive.mount('/content/gdrive')\n",
        "pkldest = '/content/gdrive/MyDrive/COVID_pkls/'"
      ],
      "execution_count": 2,
      "outputs": [
        {
          "output_type": "stream",
          "text": [
            "Drive already mounted at /content/gdrive; to attempt to forcibly remount, call drive.mount(\"/content/gdrive\", force_remount=True).\n"
          ],
          "name": "stdout"
        }
      ]
    },
    {
      "cell_type": "markdown",
      "metadata": {
        "id": "-J2VaaXl-puZ"
      },
      "source": [
        "# Model 1 - Multi Modality Fusion Model\n",
        "\n",
        "<img src=\"https://user-images.githubusercontent.com/66634743/113685129-f99e4900-96d6-11eb-985b-e477cdc3074b.png\" height=400 width=800>\n",
        "\n",
        "\n",
        "**1)  [VGG-16](#scrollTo=-J2VaaXl-puZ)**<br/>\n",
        "**2)  [ResNet-50](#scrollTo=yoaXkLst0vxa)**<br/>\n",
        "**3)  [EffecientNet-V3](#scrollTo=9CGehUvs0u_p)**<br/>\n",
        "**4)  [Fusion](#scrollTo=Qfl5gZAn23fO)**<br/>\n",
        "\n",
        "------\n",
        "## VGG 16\n",
        "\n",
        "<img src=\"https://user-images.githubusercontent.com/66634743/113575262-a8d31580-962e-11eb-840a-83f18c2029e3.png\" height=150 width=600>\n",
        "\n",
        "\n",
        "### Loading features from pkl file"
      ]
    },
    {
      "cell_type": "code",
      "metadata": {
        "id": "_afdkZczr6qN"
      },
      "source": [
        "merged_features = utils.load_from_pkl(pkldest+\"vgg16_merged_features.pkl\")\n",
        "\n",
        "merged_labels = utils.load_from_pkl(pkldest+\"merged_labels.pkl\")"
      ],
      "execution_count": 3,
      "outputs": []
    },
    {
      "cell_type": "markdown",
      "metadata": {
        "id": "MVHMzi0WJduu"
      },
      "source": [
        "### PCA (k = 256)"
      ]
    },
    {
      "cell_type": "code",
      "metadata": {
        "colab": {
          "base_uri": "https://localhost:8080/"
        },
        "id": "rVwJ8GQMqtPK",
        "outputId": "7356d9fa-9400-4743-82d7-05d2208abce6"
      },
      "source": [
        "pca = PCA(n_components=256)\n",
        "\n",
        "pca.fit(merged_features)\n",
        "PCA_features = pca.transform(merged_features)\n",
        "\n",
        "print(\"Shape after PCA \", PCA_features.shape)"
      ],
      "execution_count": 4,
      "outputs": [
        {
          "output_type": "stream",
          "text": [
            "Shape after PCA  (9544, 256)\n"
          ],
          "name": "stdout"
        }
      ]
    },
    {
      "cell_type": "markdown",
      "metadata": {
        "id": "cx8Ugm__Hz4s"
      },
      "source": [
        "### Classifier"
      ]
    },
    {
      "cell_type": "code",
      "metadata": {
        "colab": {
          "base_uri": "https://localhost:8080/"
        },
        "id": "48jZ6CkmHz8L",
        "outputId": "abcddfe1-ca8f-4c1f-d961-064d63d1545e"
      },
      "source": [
        "merged_labels = merged_labels.reshape(merged_labels.shape[0])\n",
        "X_train, X_test, y_train, y_test = train_test_split(PCA_features, merged_labels, test_size=0.3, random_state=42)\n",
        "\n",
        "classifier = svm.SVC(kernel='rbf', probability=True)\n",
        "\n",
        "classifier.fit(X_train, y_train)"
      ],
      "execution_count": 5,
      "outputs": [
        {
          "output_type": "execute_result",
          "data": {
            "text/plain": [
              "SVC(C=1.0, break_ties=False, cache_size=200, class_weight=None, coef0=0.0,\n",
              "    decision_function_shape='ovr', degree=3, gamma='scale', kernel='rbf',\n",
              "    max_iter=-1, probability=True, random_state=None, shrinking=True, tol=0.001,\n",
              "    verbose=False)"
            ]
          },
          "metadata": {
            "tags": []
          },
          "execution_count": 5
        }
      ]
    },
    {
      "cell_type": "markdown",
      "metadata": {
        "id": "HOSGgIOrH0Xm"
      },
      "source": [
        "### Temp Results"
      ]
    },
    {
      "cell_type": "code",
      "metadata": {
        "colab": {
          "base_uri": "https://localhost:8080/"
        },
        "id": "PRmlcAG3H0an",
        "outputId": "3cc1893e-f204-41d0-8a28-ab704b8f21ac"
      },
      "source": [
        "pred = classifier.predict(X_test)\n",
        "\n",
        "acc = np.sum(1*(pred==y_test))/y_test.shape[0]\n",
        "print(\"VGG + SVM  = \", acc*100)"
      ],
      "execution_count": 6,
      "outputs": [
        {
          "output_type": "stream",
          "text": [
            "VGG + SVM  =  92.73743016759776\n"
          ],
          "name": "stdout"
        }
      ]
    },
    {
      "cell_type": "markdown",
      "metadata": {
        "id": "0yjebCksQt1c"
      },
      "source": [
        "### Prababilities of classes"
      ]
    },
    {
      "cell_type": "code",
      "metadata": {
        "colab": {
          "base_uri": "https://localhost:8080/"
        },
        "id": "FthyxE32Qt_v",
        "outputId": "89d53edd-4492-4cff-93a6-05a97680714f"
      },
      "source": [
        "vgg16_probs = classifier.predict_proba(X_test)\n",
        "\n",
        "print(vgg16_probs.shape)"
      ],
      "execution_count": 7,
      "outputs": [
        {
          "output_type": "stream",
          "text": [
            "(2864, 2)\n"
          ],
          "name": "stdout"
        }
      ]
    },
    {
      "cell_type": "code",
      "metadata": {
        "colab": {
          "base_uri": "https://localhost:8080/",
          "height": 459
        },
        "id": "iBqlH4TOviT0",
        "outputId": "7a7db530-3f2e-475e-a7b3-3a29ed97d2f1"
      },
      "source": [
        "df = pd.DataFrame(vgg16_probs, range(vgg16_probs.shape[0]), [\"Prob_Non-COVID\", \"Prob_COVID\"])\n",
        "df.insert(2, \"prediction\", pred, True)\n",
        "df.insert(3, \"actual\", y_test, True)\n",
        "df.insert(4, \"correct\", pred==y_test, True)\n",
        "\n",
        "plt.figure(figsize=(12, 7))\n",
        "sns.scatterplot(data=df, x=\"Prob_Non-COVID\", y=\"Prob_COVID\", hue=\"correct\")\n",
        "plt.title('COVID vs Non-COVID')\n",
        "plt.show()"
      ],
      "execution_count": 8,
      "outputs": [
        {
          "output_type": "display_data",
          "data": {
            "image/png": "[encoded data removed]",
            "text/plain": [
              "<Figure size 864x504 with 1 Axes>"
            ]
          },
          "metadata": {
            "tags": [],
            "needs_background": "light"
          }
        }
      ]
    },
    {
      "cell_type": "code",
      "metadata": {
        "colab": {
          "base_uri": "https://localhost:8080/",
          "height": 282
        },
        "id": "STJ3YdJlviGU",
        "outputId": "a68e0b9c-ec49-40d0-e279-dbde9ef7d902"
      },
      "source": [
        "cm = confusion_matrix(y_test, pred)\n",
        "sns.heatmap(cm, annot=True)\n",
        "plt.plot()"
      ],
      "execution_count": 9,
      "outputs": [
        {
          "output_type": "execute_result",
          "data": {
            "text/plain": [
              "[]"
            ]
          },
          "metadata": {
            "tags": []
          },
          "execution_count": 9
        },
        {
          "output_type": "display_data",
          "data": {
            "image/png": "[encoded data removed]",
            "text/plain": [
              "<Figure size 432x288 with 2 Axes>"
            ]
          },
          "metadata": {
            "tags": [],
            "needs_background": "light"
          }
        }
      ]
    },
    {
      "cell_type": "markdown",
      "metadata": {
        "id": "9CGehUvs0u_p"
      },
      "source": [
        "------\n",
        "## EfficientNetB3\n",
        "\n",
        "<img src=\"https://user-images.githubusercontent.com/66634743/113626999-ec03a780-9673-11eb-9779-21d376f419d2.png\" height=150 width=600>\n",
        "\n",
        "### Loading data from pkl file\n"
      ]
    },
    {
      "cell_type": "code",
      "metadata": {
        "id": "x98eoov30Rkq"
      },
      "source": [
        "merged_features = utils.load_from_pkl(pkldest+\"effnet_merged_features.pkl\")\n",
        "merged_labels = utils.load_from_pkl(pkldest+\"merged_labels.pkl\")"
      ],
      "execution_count": 10,
      "outputs": []
    },
    {
      "cell_type": "markdown",
      "metadata": {
        "id": "_dihuk4xeDDM"
      },
      "source": [
        "### PCA (k = 256)"
      ]
    },
    {
      "cell_type": "code",
      "metadata": {
        "colab": {
          "base_uri": "https://localhost:8080/"
        },
        "id": "J29frKP3Ke0B",
        "outputId": "99b2fb76-7ba4-49cd-8cf3-039063bddc13"
      },
      "source": [
        "pca = PCA(n_components=256)\n",
        "\n",
        "pca.fit(merged_features)\n",
        "PCA_features = pca.transform(merged_features)\n",
        "\n",
        "print('Shape after PCA : ', PCA_features.shape)"
      ],
      "execution_count": 11,
      "outputs": [
        {
          "output_type": "stream",
          "text": [
            "Shape after PCA :  (9544, 256)\n"
          ],
          "name": "stdout"
        }
      ]
    },
    {
      "cell_type": "markdown",
      "metadata": {
        "id": "9XBX2YShfFN2"
      },
      "source": [
        "### SVM"
      ]
    },
    {
      "cell_type": "code",
      "metadata": {
        "colab": {
          "base_uri": "https://localhost:8080/"
        },
        "id": "0yqV4VRgKewB",
        "outputId": "9754a7bc-d13e-407e-8690-cebd4941d4a4"
      },
      "source": [
        "merged_labels = merged_labels.reshape(merged_labels.shape[0])\n",
        "X_train, X_test, y_train, y_test = train_test_split(PCA_features, merged_labels, test_size=0.3, random_state=42)\n",
        "\n",
        "classifier = svm.SVC(kernel='rbf', probability=True)\n",
        "\n",
        "classifier.fit(X_train, y_train)"
      ],
      "execution_count": 12,
      "outputs": [
        {
          "output_type": "execute_result",
          "data": {
            "text/plain": [
              "SVC(C=1.0, break_ties=False, cache_size=200, class_weight=None, coef0=0.0,\n",
              "    decision_function_shape='ovr', degree=3, gamma='scale', kernel='rbf',\n",
              "    max_iter=-1, probability=True, random_state=None, shrinking=True, tol=0.001,\n",
              "    verbose=False)"
            ]
          },
          "metadata": {
            "tags": []
          },
          "execution_count": 12
        }
      ]
    },
    {
      "cell_type": "markdown",
      "metadata": {
        "id": "atGXJf7hnGqs"
      },
      "source": [
        "### Temp Results"
      ]
    },
    {
      "cell_type": "code",
      "metadata": {
        "colab": {
          "base_uri": "https://localhost:8080/"
        },
        "id": "6BnI9jmjtcDJ",
        "outputId": "7b24c340-32aa-4660-f626-cdf27bdaf838"
      },
      "source": [
        "pred = classifier.predict(X_test)\n",
        "\n",
        "acc = np.sum(pred==y_test)/y_test.shape[0]\n",
        "print(\"EffNetB3 + SVM  = \", acc*100)"
      ],
      "execution_count": 13,
      "outputs": [
        {
          "output_type": "stream",
          "text": [
            "EffNetB3 + SVM  =  96.29888268156425\n"
          ],
          "name": "stdout"
        }
      ]
    },
    {
      "cell_type": "markdown",
      "metadata": {
        "id": "TaYaw1vZtaa1"
      },
      "source": [
        "### Prababilities of classes"
      ]
    },
    {
      "cell_type": "code",
      "metadata": {
        "colab": {
          "base_uri": "https://localhost:8080/"
        },
        "id": "qpNl4KUctaa3",
        "outputId": "d990f607-bebe-4da9-ba4b-999185eabc09"
      },
      "source": [
        "effnet_probs = classifier.predict_proba(X_test)\n",
        "\n",
        "print(effnet_probs.shape)"
      ],
      "execution_count": 14,
      "outputs": [
        {
          "output_type": "stream",
          "text": [
            "(2864, 2)\n"
          ],
          "name": "stdout"
        }
      ]
    },
    {
      "cell_type": "code",
      "metadata": {
        "colab": {
          "base_uri": "https://localhost:8080/",
          "height": 459
        },
        "id": "xvPAFIgxwnzA",
        "outputId": "697cfc72-e6d7-4253-f9d5-b6df0236da30"
      },
      "source": [
        "df = pd.DataFrame(effnet_probs, range(effnet_probs.shape[0]), [\"Prob_Non-COVID\", \"Prob_COVID\"])\n",
        "df.insert(2, \"prediction\", pred, True)\n",
        "df.insert(3, \"actual\", y_test, True)\n",
        "df.insert(4, \"correct\", pred==y_test, True)\n",
        "\n",
        "plt.figure(figsize=(12, 7))\n",
        "sns.scatterplot(data=df, x=\"Prob_Non-COVID\", y=\"Prob_COVID\", hue=\"correct\")\n",
        "plt.title('COVID vs Non-COVID')\n",
        "plt.show()"
      ],
      "execution_count": 15,
      "outputs": [
        {
          "output_type": "display_data",
          "data": {
            "image/png": "[encoded data removed]",
            "text/plain": [
              "<Figure size 864x504 with 1 Axes>"
            ]
          },
          "metadata": {
            "tags": [],
            "needs_background": "light"
          }
        }
      ]
    },
    {
      "cell_type": "code",
      "metadata": {
        "colab": {
          "base_uri": "https://localhost:8080/",
          "height": 282
        },
        "id": "Czk-27kU51Zo",
        "outputId": "e12a6088-76c8-4dff-e80a-09b412dc3406"
      },
      "source": [
        "cm = confusion_matrix(y_test, pred)\n",
        "sns.heatmap(cm, annot=True)\n",
        "plt.plot()"
      ],
      "execution_count": 16,
      "outputs": [
        {
          "output_type": "execute_result",
          "data": {
            "text/plain": [
              "[]"
            ]
          },
          "metadata": {
            "tags": []
          },
          "execution_count": 16
        },
        {
          "output_type": "display_data",
          "data": {
            "image/png": "[encoded data removed]",
            "text/plain": [
              "<Figure size 432x288 with 2 Axes>"
            ]
          },
          "metadata": {
            "tags": [],
            "needs_background": "light"
          }
        }
      ]
    },
    {
      "cell_type": "markdown",
      "metadata": {
        "id": "yoaXkLst0vxa"
      },
      "source": [
        "------\n",
        "## ResNet50\n",
        "\n",
        "<img src=\"https://user-images.githubusercontent.com/66634743/113575413-dfa92b80-962e-11eb-902c-380e39b91234.png\" height=150 width=600>\n",
        "\n",
        "### Loading data from pkl\n",
        "\n"
      ]
    },
    {
      "cell_type": "code",
      "metadata": {
        "id": "eCvfoXCbvjvU"
      },
      "source": [
        "merged_features = utils.load_from_pkl(pkldest+\"resnet_merged_features.pkl\")\n",
        "\n",
        "merged_labels = utils.load_from_pkl(pkldest+\"merged_labels.pkl\")"
      ],
      "execution_count": 17,
      "outputs": []
    },
    {
      "cell_type": "markdown",
      "metadata": {
        "id": "9ivcNh1qL5gO"
      },
      "source": [
        "### PCA (k = 128)"
      ]
    },
    {
      "cell_type": "code",
      "metadata": {
        "colab": {
          "base_uri": "https://localhost:8080/"
        },
        "id": "mQDg0HgyL5gt",
        "outputId": "31456a3a-9011-4482-de78-df675d9c7bda"
      },
      "source": [
        "k = 256\n",
        "\n",
        "pca = PCA(n_components=k)\n",
        "\n",
        "pca.fit(merged_features)\n",
        "PCA_features = pca.transform(merged_features)\n",
        "\n",
        "print(\"Shape after PCA \", PCA_features.shape)"
      ],
      "execution_count": 18,
      "outputs": [
        {
          "output_type": "stream",
          "text": [
            "Shape after PCA  (9544, 256)\n"
          ],
          "name": "stdout"
        }
      ]
    },
    {
      "cell_type": "markdown",
      "metadata": {
        "id": "gUMAvuV8L5gv"
      },
      "source": [
        "### Classifier"
      ]
    },
    {
      "cell_type": "code",
      "metadata": {
        "colab": {
          "base_uri": "https://localhost:8080/"
        },
        "id": "z6F3impkL5gw",
        "outputId": "bedc169c-93db-4213-dcee-afe54b662dab"
      },
      "source": [
        "merged_labels = merged_labels.reshape(merged_labels.shape[0])\n",
        "X_train, X_test, y_train, y_test = train_test_split(PCA_features, merged_labels, test_size=0.3, random_state=42)\n",
        "\n",
        "classifier = svm.SVC(kernel='rbf', probability=True)\n",
        "\n",
        "classifier.fit(X_train, y_train)"
      ],
      "execution_count": 19,
      "outputs": [
        {
          "output_type": "execute_result",
          "data": {
            "text/plain": [
              "SVC(C=1.0, break_ties=False, cache_size=200, class_weight=None, coef0=0.0,\n",
              "    decision_function_shape='ovr', degree=3, gamma='scale', kernel='rbf',\n",
              "    max_iter=-1, probability=True, random_state=None, shrinking=True, tol=0.001,\n",
              "    verbose=False)"
            ]
          },
          "metadata": {
            "tags": []
          },
          "execution_count": 19
        }
      ]
    },
    {
      "cell_type": "markdown",
      "metadata": {
        "id": "0JgRsM0JL5gw"
      },
      "source": [
        "### Temporary Results"
      ]
    },
    {
      "cell_type": "code",
      "metadata": {
        "colab": {
          "base_uri": "https://localhost:8080/"
        },
        "id": "V2K5ABIHL5gw",
        "outputId": "8f7e43ac-72ff-4fa3-caef-a94c3d34b2f7"
      },
      "source": [
        "pred = classifier.predict(X_test)\n",
        "\n",
        "acc = np.sum(pred==y_test)/y_test.shape[0]\n",
        "print(\"ResNet50 + SVM  = \", acc*100)"
      ],
      "execution_count": 20,
      "outputs": [
        {
          "output_type": "stream",
          "text": [
            "ResNet50 + SVM  =  96.68296089385476\n"
          ],
          "name": "stdout"
        }
      ]
    },
    {
      "cell_type": "markdown",
      "metadata": {
        "id": "8qXvTfVRRwwp"
      },
      "source": [
        "### Prababilities of classes"
      ]
    },
    {
      "cell_type": "code",
      "metadata": {
        "colab": {
          "base_uri": "https://localhost:8080/"
        },
        "id": "RlcpAucyRww1",
        "outputId": "c6b0b4b9-64ef-4dac-d1a0-3267ac6cb783"
      },
      "source": [
        "resnet_probs = classifier.predict_proba(X_test)\n",
        "\n",
        "print(resnet_probs.shape)"
      ],
      "execution_count": 21,
      "outputs": [
        {
          "output_type": "stream",
          "text": [
            "(2864, 2)\n"
          ],
          "name": "stdout"
        }
      ]
    },
    {
      "cell_type": "code",
      "metadata": {
        "colab": {
          "base_uri": "https://localhost:8080/",
          "height": 459
        },
        "id": "PMR69_oDvoS8",
        "outputId": "108b2862-a2b9-45b4-ebac-41a2b5a6bcbd"
      },
      "source": [
        "df = pd.DataFrame(resnet_probs, range(resnet_probs.shape[0]), [\"Prob_Non-COVID\", \"Prob_COVID\"])\n",
        "df.insert(2, \"prediction\", pred, True)\n",
        "df.insert(3, \"actual\", y_test, True)\n",
        "df.insert(4, \"correct\", pred==y_test, True)\n",
        "\n",
        "plt.figure(figsize=(12, 7))\n",
        "sns.scatterplot(data=df, x=\"Prob_Non-COVID\", y=\"Prob_COVID\", hue=\"correct\")\n",
        "plt.title('COVID vs Non-COVID')\n",
        "plt.show()"
      ],
      "execution_count": 22,
      "outputs": [
        {
          "output_type": "display_data",
          "data": {
            "image/png": "[encoded data removed]",
            "text/plain": [
              "<Figure size 864x504 with 1 Axes>"
            ]
          },
          "metadata": {
            "tags": [],
            "needs_background": "light"
          }
        }
      ]
    },
    {
      "cell_type": "code",
      "metadata": {
        "colab": {
          "base_uri": "https://localhost:8080/",
          "height": 282
        },
        "id": "_dgrSzGbvoRA",
        "outputId": "2038e48b-5a59-46f5-a1fd-6663cedd54df"
      },
      "source": [
        "cm = confusion_matrix(y_test, pred)\n",
        "sns.heatmap(cm, annot=True)\n",
        "plt.plot()"
      ],
      "execution_count": 23,
      "outputs": [
        {
          "output_type": "execute_result",
          "data": {
            "text/plain": [
              "[]"
            ]
          },
          "metadata": {
            "tags": []
          },
          "execution_count": 23
        },
        {
          "output_type": "display_data",
          "data": {
            "image/png": "[encoded data removed]",
            "text/plain": [
              "<Figure size 432x288 with 2 Axes>"
            ]
          },
          "metadata": {
            "tags": [],
            "needs_background": "light"
          }
        }
      ]
    },
    {
      "cell_type": "markdown",
      "metadata": {
        "id": "Qfl5gZAn23fO"
      },
      "source": [
        "------\n",
        "\n",
        "## Fusion\n",
        "\n",
        "<img src=\"https://user-images.githubusercontent.com/66634743/113895363-f770e300-97d9-11eb-9aba-dec98d34c9d5.png\" height=300 width=180>\n",
        "\n",
        "\n",
        "### Fusing the predictions of the 3 models"
      ]
    },
    {
      "cell_type": "code",
      "metadata": {
        "id": "qakrfVlB2-xw"
      },
      "source": [
        "merged = (effnet_probs + resnet_probs + vgg16_probs)/3\n",
        "\n",
        "merged_preds = np.argmax(merged, axis=1)"
      ],
      "execution_count": 24,
      "outputs": []
    },
    {
      "cell_type": "markdown",
      "metadata": {
        "id": "lcQOEIbEZHlI"
      },
      "source": [
        "### Final Multi-Modality Model Result"
      ]
    },
    {
      "cell_type": "code",
      "metadata": {
        "colab": {
          "base_uri": "https://localhost:8080/"
        },
        "id": "y7cG1tkqUg20",
        "outputId": "baa9126f-c3d2-43a3-b941-dc160036f835"
      },
      "source": [
        "final_acc = np.sum(y_test == merged_preds)/merged_preds.shape[0]\n",
        "\n",
        "print(\"Multi-Modality Model : \", final_acc*100)"
      ],
      "execution_count": 27,
      "outputs": [
        {
          "output_type": "stream",
          "text": [
            "Multi-Modality Model :  96.71787709497207\n"
          ],
          "name": "stdout"
        }
      ]
    },
    {
      "cell_type": "markdown",
      "metadata": {
        "id": "wITZMJp3-puo"
      },
      "source": [
        "### Confusion Matrix"
      ]
    },
    {
      "cell_type": "code",
      "metadata": {
        "id": "fa8zVUM7-puo",
        "colab": {
          "base_uri": "https://localhost:8080/",
          "height": 282
        },
        "outputId": "2b4c873b-c0d8-426b-f7f2-36069c6b0d8d"
      },
      "source": [
        "cm = confusion_matrix(y_test, merged_preds)\n",
        "sns.heatmap(cm, annot=True)\n",
        "plt.plot()"
      ],
      "execution_count": 26,
      "outputs": [
        {
          "output_type": "execute_result",
          "data": {
            "text/plain": [
              "[]"
            ]
          },
          "metadata": {
            "tags": []
          },
          "execution_count": 26
        },
        {
          "output_type": "display_data",
          "data": {
            "image/png": "[encoded data removed]",
            "text/plain": [
              "<Figure size 432x288 with 2 Axes>"
            ]
          },
          "metadata": {
            "tags": [],
            "needs_background": "light"
          }
        }
      ]
    }
  ]
}