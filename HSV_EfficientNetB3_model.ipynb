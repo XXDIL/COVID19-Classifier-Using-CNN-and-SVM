{
 "cells": [
  {
   "cell_type": "code",
   "execution_count": 2,
   "metadata": {},
   "outputs": [],
   "source": [
    "import os\n",
    "import cv2\n",
    "import numpy as np\n",
    "import seaborn as sns\n",
    "from tqdm import tqdm\n",
    "from tensorflow.keras.applications import EfficientNetB3\n",
    "import pickle as pkl\n",
    "import matplotlib.pyplot as plt\n",
    "\n",
    "labels = ['covid','non-covid']"
   ]
  },
  {
   "cell_type": "markdown",
   "metadata": {},
   "source": [
    "# Resize and HSV convert Function for images"
   ]
  },
  {
   "cell_type": "code",
   "execution_count": 2,
   "metadata": {},
   "outputs": [],
   "source": [
    "def resize(S, dest):\n",
    "    '''\n",
    "        1) Making a list of images\n",
    "        2) Making a list of labels\n",
    "        3) Resizing the images to SxSx3\n",
    "        4) Converting the lists into numpy arrays\n",
    "\n",
    "        params : \n",
    "            S -> Resultant Size after Resizing\n",
    "\n",
    "        return : \n",
    "            numpy_array -> contains the images (n, S, S, 3)\n",
    "            scenes      -> contains the clases (n,)\n",
    "    '''\n",
    "    array_of_imgs = []\n",
    "    to_be_deleted = []\n",
    "    Y = []\n",
    "\n",
    "    path_to_each_image = []\n",
    "    for dirs in labels:\n",
    "        for images in sorted(os.listdir(dest + '/' + dirs)):\n",
    "            path_to_each_image.append('/'+ dirs + '/' + images)\n",
    "\n",
    "    for sub_path in tqdm(path_to_each_image):\n",
    "        path = dest + sub_path\n",
    "        img = cv2.imread(path)\n",
    "\n",
    "        try :\n",
    "            # resize to SxSx3\n",
    "            hsvImg = cv2.cvtColor(img,cv2.COLOR_BGR2HSV)\n",
    "            new_img = cv2.resize(hsvImg, (S,S), interpolation = cv2.INTER_AREA)\n",
    "        except:\n",
    "            to_be_deleted.append(path)\n",
    "            continue\n",
    "        \n",
    "        # inserting into the array\n",
    "        array_of_imgs.append(new_img)\n",
    "        # inserting into labels\n",
    "        Y.append(path.split('/')[-2])\n",
    "\n",
    "    # convert lists to numpy arrays\n",
    "    numpy_array = np.array(array_of_imgs)\n",
    "    scenes = np.array(Y)\n",
    "\n",
    "    return numpy_array, scenes"
   ]
  },
  {
   "cell_type": "code",
   "execution_count": 3,
   "metadata": {},
   "outputs": [
    {
     "name": "stderr",
     "output_type": "stream",
     "text": [
      "100%|██████████| 9544/9544 [05:16<00:00, 30.16it/s]\n"
     ]
    }
   ],
   "source": [
    "images, scenes = resize(300,\"X-ray\")"
   ]
  },
  {
   "cell_type": "code",
   "execution_count": 4,
   "metadata": {},
   "outputs": [
    {
     "data": {
      "text/plain": [
       "array(['covid', 'covid', 'covid', ..., 'non-covid', 'non-covid',\n",
       "       'non-covid'], dtype='<U9')"
      ]
     },
     "execution_count": 4,
     "metadata": {},
     "output_type": "execute_result"
    }
   ],
   "source": [
    "scenes"
   ]
  },
  {
   "cell_type": "markdown",
   "metadata": {},
   "source": [
    "# Dumping HSV images and scenes"
   ]
  },
  {
   "cell_type": "code",
   "execution_count": 5,
   "metadata": {},
   "outputs": [],
   "source": [
    "def dump_into_pkl(data, name):\n",
    "    '''\n",
    "        dumps the data into a pkl file\n",
    "        \n",
    "        params : \n",
    "            data -> whatever you want to dump\n",
    "            name -> name of the file\n",
    "    '''\n",
    "    outfile = open(name,'wb')\n",
    "    pkl.dump(data, outfile)\n",
    "    outfile.close()\n",
    "    \n",
    "    print(name + \" dumped\")"
   ]
  },
  {
   "cell_type": "code",
   "execution_count": 6,
   "metadata": {},
   "outputs": [
    {
     "name": "stdout",
     "output_type": "stream",
     "text": [
      "hsvImages.pkl dumped\n",
      "labels.pkl dumped\n"
     ]
    }
   ],
   "source": [
    "dump_into_pkl(images,\"hsvImages.pkl\")\n",
    "dump_into_pkl(scenes,\"labels.pkl\")"
   ]
  },
  {
   "cell_type": "markdown",
   "metadata": {},
   "source": [
    "# Function to load file"
   ]
  },
  {
   "cell_type": "code",
   "execution_count": null,
   "metadata": {},
   "outputs": [],
   "source": [
    "def load_from_pkl(name):\n",
    "    infile = open(name, 'rb')\n",
    "    X = pkl.load(infile)\n",
    "    infile.close()\n",
    "    return X"
   ]
  },
  {
   "cell_type": "markdown",
   "metadata": {},
   "source": [
    "# Load Images, labels"
   ]
  },
  {
   "cell_type": "code",
   "execution_count": null,
   "metadata": {},
   "outputs": [],
   "source": [
    "images = load_from_pkl(\"hsvImages.pkl\")\n",
    "labels = load_from_pkl(\"labels.pkl\")"
   ]
  },
  {
   "cell_type": "code",
   "execution_count": null,
   "metadata": {},
   "outputs": [],
   "source": [
    "print(images.shape,\"\\n\",labels.shape)"
   ]
  },
  {
   "cell_type": "markdown",
   "metadata": {},
   "source": [
    "# EfficientNet-B3 Import"
   ]
  },
  {
   "cell_type": "code",
   "execution_count": null,
   "metadata": {},
   "outputs": [],
   "source": [
    "effnetB3 = EfficientNetB3(weights = \"imagenet\", input_shape = (300,300,3) ,include_top = False, pooling = 'avg')\n",
    "effnetB3.summary()"
   ]
  },
  {
   "cell_type": "markdown",
   "metadata": {},
   "source": [
    "# Freezing Layers"
   ]
  },
  {
   "cell_type": "code",
   "execution_count": null,
   "metadata": {},
   "outputs": [],
   "source": [
    "effnetB3.trainable = False"
   ]
  },
  {
   "cell_type": "code",
   "execution_count": null,
   "metadata": {},
   "outputs": [],
   "source": [
    "features.shape\n",
    "dump_into_pkl(features,\"features.pkl\")"
   ]
  }
 ],
 "metadata": {
  "kernelspec": {
   "display_name": "Python 3",
   "language": "python",
   "name": "python3"
  },
  "language_info": {
   "codemirror_mode": {
    "name": "ipython",
    "version": 3
   },
   "file_extension": ".py",
   "mimetype": "text/x-python",
   "name": "python",
   "nbconvert_exporter": "python",
   "pygments_lexer": "ipython3",
   "version": "3.7.6"
  }
 },
 "nbformat": 4,
 "nbformat_minor": 4
}
